{
  "nbformat": 4,
  "nbformat_minor": 0,
  "metadata": {
    "colab": {
      "provenance": [],
      "gpuType": "T4"
    },
    "kernelspec": {
      "name": "python3",
      "display_name": "Python 3"
    },
    "language_info": {
      "name": "python"
    },
    "accelerator": "GPU"
  },
  "cells": [
    {
      "cell_type": "code",
      "execution_count": null,
      "metadata": {
        "id": "xM-E2JpQ0lRt"
      },
      "outputs": [],
      "source": [
        "import tensorflow as tf\n",
        "import numpy as np\n",
        "import pandas as pd"
      ]
    },
    {
      "cell_type": "code",
      "source": [
        "ds = pd.read_csv('topSongsLyrics1950_2019.csv')"
      ],
      "metadata": {
        "id": "UFMiiE7J1Ciw"
      },
      "execution_count": null,
      "outputs": []
    },
    {
      "cell_type": "code",
      "source": [
        "ds.info()"
      ],
      "metadata": {
        "colab": {
          "base_uri": "https://localhost:8080/"
        },
        "id": "_GnCEbLX_yrs",
        "outputId": "67c59d11-2a9d-441c-bb97-06c01e2e672a"
      },
      "execution_count": null,
      "outputs": [
        {
          "output_type": "stream",
          "name": "stdout",
          "text": [
            "<class 'pandas.core.frame.DataFrame'>\n",
            "RangeIndex: 700 entries, 0 to 699\n",
            "Data columns (total 5 columns):\n",
            " #   Column  Non-Null Count  Dtype \n",
            "---  ------  --------------  ----- \n",
            " 0   year    700 non-null    int64 \n",
            " 1   rank    700 non-null    int64 \n",
            " 2   artist  700 non-null    object\n",
            " 3   song    700 non-null    object\n",
            " 4   lyrics  696 non-null    object\n",
            "dtypes: int64(2), object(3)\n",
            "memory usage: 27.5+ KB\n"
          ]
        }
      ]
    },
    {
      "cell_type": "code",
      "source": [
        "X = ds['lyrics']"
      ],
      "metadata": {
        "id": "-5C_7XplBGL1"
      },
      "execution_count": null,
      "outputs": []
    },
    {
      "cell_type": "code",
      "source": [
        "import numpy as np\n",
        "import matplotlib.pyplot as plt\n",
        "import tensorflow as tf\n",
        "from tensorflow.keras.models import Sequential\n",
        "from tensorflow.keras.layers import Embedding, LSTM, GRU, Dense, Dropout\n",
        "from tensorflow.keras.preprocessing.text import Tokenizer\n",
        "from tensorflow.keras.preprocessing.sequence import pad_sequences\n",
        "import nltk"
      ],
      "metadata": {
        "id": "RcFgM1zCByHd"
      },
      "execution_count": null,
      "outputs": []
    },
    {
      "cell_type": "code",
      "source": [
        "voc_size = 8000"
      ],
      "metadata": {
        "id": "Bm-lZKlACA0P"
      },
      "execution_count": null,
      "outputs": []
    },
    {
      "cell_type": "code",
      "source": [
        "messages = X.copy()"
      ],
      "metadata": {
        "id": "iPtNc3oNCG8D"
      },
      "execution_count": null,
      "outputs": []
    },
    {
      "cell_type": "code",
      "source": [
        "import nltk\n",
        "\n",
        "nltk.download(\"punkt\")\n",
        "nltk.download(\"punkt_tab\")   # <-- new requirement"
      ],
      "metadata": {
        "colab": {
          "base_uri": "https://localhost:8080/"
        },
        "id": "fG0gR8SjJSBe",
        "outputId": "85deb0c1-9e74-444e-b938-27b5e94d029f"
      },
      "execution_count": null,
      "outputs": [
        {
          "output_type": "stream",
          "name": "stderr",
          "text": [
            "[nltk_data] Downloading package punkt to /root/nltk_data...\n",
            "[nltk_data]   Package punkt is already up-to-date!\n",
            "[nltk_data] Downloading package punkt_tab to /root/nltk_data...\n",
            "[nltk_data]   Package punkt_tab is already up-to-date!\n"
          ]
        },
        {
          "output_type": "execute_result",
          "data": {
            "text/plain": [
              "True"
            ]
          },
          "metadata": {},
          "execution_count": 9
        }
      ]
    },
    {
      "cell_type": "code",
      "source": [
        "from nltk.tokenize import sent_tokenize\n",
        "\n",
        "# convert to string and drop NaN\n",
        "text = \" \".join(messages.dropna().astype(str))\n",
        "\n",
        "# tokenize sentences\n",
        "corpus = sent_tokenize(text)\n",
        "\n",
        "print(corpus[:5])  # first 5 sentences"
      ],
      "metadata": {
        "colab": {
          "base_uri": "https://localhost:8080/"
        },
        "id": "xr525KyXOA1Q",
        "outputId": "12c7799a-9a0a-4389-b7f2-5479f3c6ac9c"
      },
      "execution_count": null,
      "outputs": [
        {
          "output_type": "stream",
          "name": "stdout",
          "text": [
            "[\"They call, they call me the fat man|'Cause I weight two hundred pounds|All the girls, they love me|'Cause I know my way around|I was standin', I was standin' on the corner|Of Rampart and Canal|I was watchin', watchin'|Watchin' all these creole gals|Wah wah wah, wah wah|Wah wah waah, wah wah wah|Wah wah waah, wah wah wah|Wah wah wah|Wah waaa-ah wah|Wah wah wah, wah wah wah|Wah wah wah, wah wah wah|Wah wah wah|I'm goin', I'm goin' goin' away|And I'm goin', goin' to stay|'Cause women and a bad life|They're carrying this soul awayYou might also like Understanding and peace of mind|But, if it's not asking too much|Please send me someone to love|Show all the world how to get along|Peace will enter when hate is gone|But, if it's not asking too much|Please send me someone to love|I lay awake night and ponder world troubles|My answer is always the same|That unless men put an end to all of this|Hate will put the world in a flame, (oh) what a shame|Just because I'm in misery|I'm not begging for no sympathy|But if it's not asking too much|Just send me someone to love|Heaven please send to all mankind|Understanding and peace of mind|But if it's not asking too much|Please send me someone to love|Learn to love me or leave me, either one you wanna do|Learn to love me or leave me, either one you wanna do|Because strange things are happenin'|Babe, an' somethin' might happen to you|You might also likeIf you know you don't love me, why don't you let me be?|If you know you don't love me, why don't you let me be?|Because it's better to be without you, then to live on in misery|Hey!|Midnight find me cryin', daylight find me cryin', too|Midnight find me cryin', daylight find me cryin', too|You better change your ways pretty baby|Or somethin' might happen to you I think of you|And that's the time|I feel so blue|When the rain starts to falling|My love comes tumbling down|And it's raining teardrops from my eyes|Well if you see clouds|Here in my eyes|It's just because|You said goodbye|Although the sun is shining|Theres no summer skies|Still it's raining teardrops from my eyes|Remember the night you told me|Our love would always be|I wouldn't be blue and lonely|Well if you'd come back to me|Every single cloud|Would disappear|I'd wear a smile|If you were here|You might also likeSo baby won't you hurry|Because I need you so|And it's raining teardrops|From my eyes|Remember the night you told me|Our love would always be|I wouldn't be blue and lonely|Well if you'd come back to me|Every single cloud|Would disappear|I'd wear a smile|If you were here|So baby won't you hurry|Cause I miss you so|And it's raining teardrops from my eyes Mona Lisa, Mona Lisa, men have named you|You're so like the lady with the mystic smile|Is it only 'cause you're lonely they have blamed you?|For that Mona Lisa strangeness in your smile?|Do you smile to tempt a lover, Mona Lisa?|Or is this your way to hide a broken heart?|Many dreams have been brought to your doorstep|They just lie there, and they die there|Are you warm?\", 'Are you real, Mona Lisa?|Or just a cold and lonely, lovely work of art?|Do you smile to tempt a lover, Mona Lisa?|Or is this your way to hide a broken heart?|Many dreams have been brought to your doorstep|They just lie there, and they die there|Are you warm?', \"Are you real, Mona Lisa?|Or just a cold and lonely, lovely work of art?|Mona Lisa|Mona LisaYou might also like1 When an old friend I happened to see|I Introduced her to my loved one and while they were dancing|My friend stole my sweetheart from me|I remember the night and the Tennessee Waltz|Now I know just how much I have lost|Yes, I lost my little darling on the night they were playing|The beautiful Tennessee Waltz|I was dancing with my darling to the Tennessee Waltz|When an old friend I happened to see|I Introduced her to my loved one and while they were dancing|My friend stole my sweetheart from me|I remember the night and the Tennessee Waltz|Now I know just how much I have lost|Yes, I lost my little darling on the night they were playing|The beautiful Tennessee WaltzYou might also like But I got to the river so lonesome I wanted to die, oh Lord|And then I jumped in the river, but the doggone river was dry|She's long gone, and now I'm lonesome blue|I had me a woman who couldn't be true|She made me for my money and she made me blue|A man needs a woman that he can lean on|But my leanin' post is done left and gone|She's long gone, and now I'm lonesome blue|I'm gonna find me a river, one that's cold as ice|And when I find me that river, Lord I'm gonna pay the price, oh Lord|I'm goin' down in it three times, but Lord I'm only comin' up twice|She's long gone, and now I'm lonesome blue|She told me on Sunday she was checkin' me out|Long about Monday she was nowhere about|And here it is Tuesday, ain't had no news|I got them gone but not forgotten blues|She's long gone, and now I'm lonesome blueYou might also like1 I wanna see the Mardi Gras|Yes, I'm goin' to New Orleans|I wanna see the Mardi Gras|When I see the Mardi Gras|I wanna know what's carnival for|Goin' down to New Orleans|I've got my ticket in my hand|Goin' down to New Orleans|I've got my ticket in my hand|When I get to New Orleans|I wanna see the Zulu King|Way down in New Orleans|Down on Rampart and Dumaine|Yes, down in New Orleans|On Rampart and Dumaine|Gonna make it my standin' place|Until I see the Zulu QueenYou might also like That big eight wheeler a rollin' down the track|Means your true lovin' daddy ain't comin' back|'Cause I'm movin' on, I'll soon be gone|You were flyin' too high for my little old sky|So I'm movin' on|That big loud whistle as it blew and blew|Said hello to the Southland, we're comin' to you|And we're movin' on, oh hear my song|You had the laugh on me, so I've set you free|And I'm movin' on|Mister Fireman, won't you please listen to me|'Cause I got a pretty mama in Tennessee|Keep movin' me on, keep rollin' on|So shovel the coal, let this rattler roll|And keep movin' me on|Mister Engineer, take that throttle in hand|This rattler's the fastest in the southern land|To keep movin' me on, keep rollin' on|You're gonna ease my mind, put me there on time|And keep rollin' on|I've told you baby from time to time|But you just wouldn't listen or pay me no mind|Now I'm movin' on, I'm rollin' on|You've broken your vow and it's all over now|So I'm movin' on|You switched your engine, now I ain't got time|For a triflin' woman on my main line|'Cause I'm movin' on, you done your daddy wrong|I've warned you twice, now you can settle the price|Cause I'm movin' on|But someday baby when you've had your play|You're gonna want your daddy but your daddy will say|Keep movin' on, you stayed away too long|I'm through with you, too bad you're blue|Keep movin' on3 Well, I wish I was a catfish|Swimming in a oh, deep, blue sea|I would have all you good looking women|Fishing, fishing after me|Sure enough, a-after me|Sure enough, a-after me|Oh enough, oh enough, sure enough|I went to my baby's house|And I sit down oh, on her steps|She said, Come on in now, Muddy|You know my husband just now left|Sure enough, he just now left|Sure enough, he just now left|Oh enough, oh well, oh well|Well, my mother told my father|Just before hmmm, I was born|I got a boy child's comin'|Gonna be, he's going to be a rolling stone|Sure enough, he's a rolling stone|Sure enough, he's a rolling stone|Oh well he's a, oh well he's a, oh well he's a|Well, I feel, yes I feel|Feel that I could lay down oh, time isn't long|I'm gonna catch the first thing smoking|Back, back down the road, I'm going|Back down the road, I'm going|Back down the road, I'm going|Sure enough back, sure enough back1 Seven of us crammed into that truck of mine|Paying no attention to them highway signs|Doing ninety miles an hour toward the county line|Quick sack, twelve pack, back again|It's a be -double E-double are you in?|My buddies and their babies letting down their hair|As long as we're together it don't matter where|Ain't got a lot of money but we just don't care|Knowing half the fun is in the getting there|Aztec, long necks, pay checks spent|Oh, It's a be -double E-double are you in?|I can't stop thinking|What the hell they were drinking|When they made this county dry|I got a week-long thirst|And to make it worse|Lord, it's my turn to drive|Laughing and bragging and a' carrying on|We loaded up the wagons and we headed home|I guess half a dozen cases doesn't last that long|Come tomorrow morning it'll be all gone|Then, it's turn around, leave town, sounds again|Like a be -double E-double are you in?You might also like Sixty-minute man|Lookie here girls I'm telling you now|They call me Lovin' Dan|I rock 'em, roll 'em all night long|I'm a sixty-minute man|Yeah, yeah , yeah|If you don't believe I'm all I say|Come up and take my hand|When I let you go you'll cry Oh yes|He's a sixty-minute man|There'll be 15 minutes of kissing|Then you'll holler please don't stop (don't stop)|There'll be 15 minutes of teasing|And 15 minutes of squeezing|And 15 minutes of blowing my top|If your man ain't treating you right|Come up and see ol' Dan|I rock 'em, roll 'em all night long|I'm a sixty-minute man|Sixty-minute man|They call me Lovin' Dan|I rock 'em, roll 'em all night long|I'm a sixty-minute man|You might also likeSixty-minute man|They call me Lovin' Dan|I rock 'em, roll 'em all night long|I'm a sixty-minute man|There'll be 15 minutes of kissing|Then you'll holler please don't stop (don't stop)|There'll be 15 minutes of teasing|And 15 minutes of squeezing|And 15 minutes of blowing my top|If your man ain't treating you right|Come up and see ol' Dan|I rock 'em, roll 'em all night long|I'm a sixty-minute man, oh yeah|Sixty-minute man2 You women have heard of jalopies|You've heard the noise they make|But let me re-introduce my new Rocket '88|Yes, it's straight, just won't wait|Everybody likes my Rocket '88|Baby, we'll ride in style|Movin' all along|V-8 motor and this modern design|Black convertible top and the gals don't mind|Sportin' with me, ridin' all around town for joy|Blow your horn, baby, blow|Step in my Rocket and don't be late|Baby, we're pullin' out about a half-past eight|Goin' 'round the corner and get a beer|Everybody in my car is gonna take a little nip|Move on out, oozin' and cruisin' alongYou might also like1 I'm gettin' up soon in the mornin'|I believe I'll dust my broom|I'm gettin' up soon in the mornin'|I believe I'll dust my broom|I quit the best gal I'm lovin'|Now, my friends can get my room|I'm gonna write a letter|Telephone every town I know|I'm gonna write a letter|Telephone every town I know|If I don't find her in Mississippi|She due in Westminster, I know|And I don't want no woman|Want ev'ry downtown man she meets|No, I don't want no woman|Want ev'ry downtown man she meets|Man, she's a no good doney|They shouldn't allow her on the street, yeah|I believe|I believe my time ain't long|I believe|I believe my time ain't long|I ain't gonna leave my baby|And break up my happy homeYou might also like2 Ooh-wah|Ooh-wah|Ooh-wah|If your sweetheart sends a letter of goodbye|It's no secret you'll feel better if you cry|When waking from a bad dream|Don't you sometimes think it's real?|But it's only false emotions that you feel|If your heartaches seem to hang around too long|And your blues keep getting bluer with each song|Remember sunshine can be found behind a cloudy sky|So let your hair down and go on and cry|If your heartaches seem to hang around too long|And your blues keep getting bluer with each song|Well, now, remember sunshine can be found behind a cloudy sky|So let your hair down and go right on, baby, and cry|(Go on and cry)You might also like They try to tell us we're too young|Too young to really be in love|They say that love's a word|A word we've only heard|But can't begin to know the meaning of|And yet we're not too young to know|This love will last though years may go|And then someday they may recall|We were not too young at all|And yet we're not too young to know|This love will last though years may go|And then someday they may recall|We were not too young at allYou might also like Yet you're afraid each thing I do is just some evil scheme|A memory from your lonesome past keeps us so far apart|Why can't I free your doubtful mind and melt your cold, cold heart?|Another love before my time made your heart sad and blue|And so my heart is paying now for things I didn't do|In anger, unkind words are said that make the teardrops start|Why can't I free your doubtful mind and melt your cold, cold heart?|You'll never know how much it hurts to see you sit and cry|You know you need and want my love, yet you're afraid to try|Why do you run and hide from life, to try it just ain't smart|Why can't I free your doubtful mind and melt your cold, cold heart?|There was a time when I believed that you belonged to me|But now I know your heart is shackled to a memory|The more I learn to care for you, the more we drift apart|Why can't I free your doubtful mind and melt your cold, cold heart?You might also like3 And let your poor heart break a little|That's the story of, that's the glory of love|You've got to laugh a little, cry a little|Before the clouds roll by a little|That's the story of, that's the glory of love|As long as there's the two of us|We've got the world and all its charms|And when the world is through with us|We've got each other's arms|You've got to win a little, lose a little|And always have the blues a little|That's the story of, that's the glory of love|(As long as there's the two of us)|(We've got the world and all its charms)|And when the world is through with us|We've got each other's arms|You've got to win a little, lose a little|And always have the blues a little|That's the story of, that's the glory of love|You might also likeThat's the story of, that's the glory of love And I can't even close my eyes|Three o'clock in the morning|And I can't even close my eyes|Can't find my baby|And I can't be satisfied|I've looked all around me|And my baby, she can't be found|I've looked all around me, people|And my baby, she can't be found|You know if I don't find my baby|People, I'm going down to the golden ground|Goodbye everybody|I believe this is the end|Oh, goodbye everybody|I believe this is the end|I want you to tell my baby|Tell her please, please forgive me|Forgive me for my sinsYou might also like Say hey, good lookin' - what ya got cookin'?|How's about cookin' somethin' up with me?|Hey, sweet baby - don't you think maybe|We can find us a brand new recipe?|I got a hot rod Ford, and a two dollar bill|And I know a spot right over the hill|There's soda pop and the dancing's free|So if you wanna have fun, come along with me|Say hey, good lookin' - what ya got cookin'?|How's about cooking somethin' up with me?|I'm free and ready, so we can go steady|How's about savin' all your time for me?|No more lookin', I know I been tookin'|Hows about keepin' steady company?|I'm gonna throw my date book over the fence|And buy me one for five or ten cents|I'll keep it till it's covered with age|Cause I'm writin' your name down on ever' page|Say hey, good lookin' - what ya got cookin'?|How's about cookin' somethin' up with me?3 Somewhere there's music, how faint the tune|Somewhere there's heaven, how high the moon|There is no moon above, when love is far away too|Until it comes true, that you love me as I love you|Somewhere there's music, how near, how far|Somewhere there's heaven, it's where you are|The darkest night would shine if you would come to me soon|Until you will, how still my heart, how high the moon|Ahh|Somewhere there's music, how faint the tune|Somewhere there's heaven, how high the moon|The darkest night would shine if you would come to me soon|Until you will, how still my heart, how high the moonYou might also like Well now lawdy, lawdy, lawdy, Miss Clawdy|Girl, you sure look good to me|Well, please don't excite me baby|Know it can't be me|Because I gave you all my money|Girl, but you just won't treat me right|You like to ball in the mornin'|Don't come back till late at night|I'm gonna tell, tell my mama|Girl I'm gonna tell her what you doing to me|I'm gonna tell everybody|That I'm down in misery|Well lawdy, lawdy, lawdy, Miss Clawdy|Girl you sure look good to me|You just wheel and rockin' baby|Just as fine as you can be|Well so bye, bye-bye, baby|Girl, I won't be comin' no more|Bye darlin', I'm dying|Down the road I go Goodbye Joe me gotta go me oh my oh|Me gotta go pole the pirogue down the bayou|My Yvonne the sweetest one me oh my oh|Son of me gun we'll have big fun on the bayou|Jambalaya and a crawfish pie on a filé gumbo|'Cause tonight I'm gonna see my ma cher amio|Pick guitar, filled fruit jar and be gay-o|Son of me gun we'll have big fun on the bayou|Thibodaux Fontaineaux the place is buzzin'|Kinfolk come to see Yvonne by the dozen|Dressed in style, go hog wild, oh me oh my oh|Son of me gun we'll have big fun on the bayou|Settle down far from town get me a pirogue|And I'll catch all the fish in the bayou|Jambalaya and a crawfish pie on a filé gumbo|'Cause tonight I'm gonna see my ma cher amio|Pick guitar, filled fruit jar and be gay-o|Son of me gun we'll have big fun on the bayou|Jambalaya and a crawfish pie on a filé gumbo|'Cause tonight I'm gonna see my ma cher amio|Pick guitar, filled fruit jar and be gay-o|Son of me gun we'll have big fun on the bayou|Son of me gun we'll have big fun on the bayou|Later on, swap my mon, get me a pirogue|And I'll catch all the fish on the bayou|Swap my mon, to buy Yvonne what she need-oh|Son of a gun we'll have big fun on the bayou|Jambalaya and a crawfish pie...2 Have mercy, mercy baby|I know I've done you wrong|Have mercy, mercy baby|I know I've done you wrong|Now my heart is full of sorrow|So take me back where I belong|I've been a good-for-nothin'|I've lied and cheated too|I've been a good-for-nothin'|I've lied and cheated too|But I reap it on (?)\", \"my darling|And I don't know what to do|So have mercy, mercy baby|Please don't slam that door|Have mercy, mercy baby|Please don't slam that door|Cause I know if you refuse me|I'll never be the same no more|Have mercy, mercy baby|I know I've done you wrong|Have mercy, mercy baby|I know I've done you wrong|Now my heart is full of sorrow|So take me back where I belong|(crying) Have mercy!\", \"(crying) One early morning, as I was walking|I met a woman, we started talking|I took her home, to get a few nips|But all I had was a mint julep|One mint julep was the cause of it all|I don't remember just how I started|I only know that we should have parted|I stole a kiss, and then another|I didn't mean to take it further|One mint julep was the cause of it all|The lights were burning low, there in the parlor|When through the kitchen door, up popped her father|He said I saw you when you kissed my daughter|Gotta wed her right now, or face a slaughter!|I didn't know just what I was doing|I had to marry of face ruin|A mint julep, a mint julep|A mint julep, a mint julep|One mint julep was the cause of it all|Now, I don't want to bore you with my troubles|But from now on I'll be thinking double|I'm through with flirting and drinking whiskey|I got six extra children from a-getting frisky|A mint julep, a mint julep|A mint julep, a mint julep|One mint julep was the cause of it all That you would leave me here in tears|But now you're gone and hours seem like years|So, darling, I sing my song|You're leaving|Makes my heart beat low and slow|Now I'm wondering where did you go?|Please tell me what is wrong|I still love you|Won't you please come back to me?|Come back where you oughtta be|Don't stay from me|'Cause you'll always be my own|We'll be together for eternity|You told me|That you would leave me here in tears|Now you're gone and hours seem like years|So, darling, I sing my song|I still love you|Won't you please come back to me|Come back where you oughtta be|Don't stay from me|'Cause you'll always be my own|We'll be together for eternity|You might also likeYou told me|That you would leave me here in tears|Now you're gone and hours seem like years|So, darling, I sing my song Can't stand your evil way|Goin' home tomorrow|Can't stand your evil way|When you're around me|I'm full of misery all day|I can't go on|I can't go on this way|I can't go on|I can't go on this way|You don't want my lovin|So I'm goin away to stay|Don't try to find me|Don't even call me on the phone|Don't try to find me|Don't even call me on the phone|I'm better off without you|So don't you leave ah me aloneYou might also like There I go, there I go|There I go, there I go|Pretty baby, you are the soul|Who snaps my control|Such a funny thing but every time you're near me|I never can behave|You give me a smile and then I'm wrapped up in your magic|There's music all around me, crazy music|Music that keeps calling me so very close to you|Turns me your slave|Come and do with me any little thing you want to|Anything, baby, just let me get next to you|Am I insane or do I really see heaven in your eyes?|Bright as stars that shine up above you in the clear blue skies|How I worry 'bout you, just can't live my life without you|Baby, come here, don't have no fear|Oh, is there a wonder why|I'm really feeling in the mood for love?|So tell me why stop to think|About this weather, my dear?|This little dream might fade away|There I go talking out of my head again|Oh baby, won't you come and put our two hearts together?|That would make me strong and brave|Ooh, when we are one, I'm not afraid, I'm not afraid|If there's a cloud up above us, go on and let it rain|I'm sure our love together will endure a hurricane|Oh, my baby, won't you please let me love you|And give me relief from this awful misery?|What is all this talk about loving me, my sweet?|I am not afraid, not anymore, not like before|Don't you understand me?|Now baby, please pull yourself together, do it soon|My soul's on fire, come on and take me|I'll be what you make me, my darling, my sweet|Oh, baby, you make me feel so good|Let me take you by the hand|Come, let us visit out there|In that new promised land|Maybe there we can find|A good place to use a loving state of mind|I'm so tired of being without|And never knowing what love's about|James Moody, you can come on in man|And you can blow now if you want to|We're through That you and I are through|If you leave me pretty baby|I'll have bread without no meat|I've given you all of me|You're all that I have you see|And if you leave me pretty baby|I'll have bread without no meat|You told me that you loved me|How good you made it sound|And now you're trying to tell me|You're going to put me down|But baby, don't do it|Don't do it|Don't do it|Don't do it|Don't do it|Don't do it|Don't do it|Don't do it|If you leave me pretty baby|I'll have bread without no meat|Baby I love you, I love you, I love you, love you so|Please don't say you'll leave me any more|If you leave me pretty baby|I'll have bread without no meat|You might also likePlease say that you changed, changed your mind|And stop my poor little heart from crying|If you leave me pretty baby|I'll have bread without no meat|You told me that you loved me|How good you made it sound|And now you're trying to tell me|You're going to put me down|But baby, don't do it|Don't do it|Don't do it|Don't do it|Don't do it|Don't do it|Don't do it|Don't do it|If you leave me pretty baby|I'll have bread without no meat Uh ooooh|You know the landlord rang my front door bell|I let it ring for a long, long spell|I went to the window and peeked through the blind|And asked him to tell me what was on his mind|He said, Money honey (umm bop she-bop)|Yes|Money honey (umm bop she-bop)|Mmmm hmmmm|Money honey (umm bop she-bop)|If you wanna stay here with me|I was cleaned and skeenned and so hard pressed|I called the woman that I love the best|I finally got my baby 'bout a half past three|She said, I'd like to know what you want with me|I said, Money honey (umm bop she-bop)|Ahhh|Money honey (umm bop she-bop)|Mmmm hmmmm|Money honey (umm bop she-bop)|If you wanna get along with me|She screamed and said, What's wrong with you?|From this day on, our romance is through|I said, Tell me, baby, face to face|A-how could another man take my place?|She said, Money honey (umm bop she-bop)|Mmmm hmmmm|Money honey (umm bop she-bop)|Ohhhhhhh|Money honey (umm bop she-bop)|If you wanna get along with me|Uh ooooh|Uh ooooh|Uh ooooh|Uh ooooh|Uh ooooh|Uh ooooh|Uh ooooh|Aaaaahhhhhhhhh!!!\"]\n"
          ]
        }
      ]
    },
    {
      "cell_type": "code",
      "source": [
        "corpus = []\n",
        "for lyric in messages.dropna():\n",
        "    sentences = sent_tokenize(str(lyric))\n",
        "    corpus.extend(sentences)  # add all sentences to corpus\n",
        "\n",
        "print(corpus[:5])"
      ],
      "metadata": {
        "colab": {
          "base_uri": "https://localhost:8080/"
        },
        "id": "gTNgbVxIJR1u",
        "outputId": "4d5c620a-c8f1-475d-ca9d-ac7f354f067d"
      },
      "execution_count": null,
      "outputs": [
        {
          "output_type": "stream",
          "name": "stdout",
          "text": [
            "[\"They call, they call me the fat man|'Cause I weight two hundred pounds|All the girls, they love me|'Cause I know my way around|I was standin', I was standin' on the corner|Of Rampart and Canal|I was watchin', watchin'|Watchin' all these creole gals|Wah wah wah, wah wah|Wah wah waah, wah wah wah|Wah wah waah, wah wah wah|Wah wah wah|Wah waaa-ah wah|Wah wah wah, wah wah wah|Wah wah wah, wah wah wah|Wah wah wah|I'm goin', I'm goin' goin' away|And I'm goin', goin' to stay|'Cause women and a bad life|They're carrying this soul awayYou might also like\", \"Understanding and peace of mind|But, if it's not asking too much|Please send me someone to love|Show all the world how to get along|Peace will enter when hate is gone|But, if it's not asking too much|Please send me someone to love|I lay awake night and ponder world troubles|My answer is always the same|That unless men put an end to all of this|Hate will put the world in a flame, (oh) what a shame|Just because I'm in misery|I'm not begging for no sympathy|But if it's not asking too much|Just send me someone to love|Heaven please send to all mankind|Understanding and peace of mind|But if it's not asking too much|Please send me someone to love|Learn to love me or leave me, either one you wanna do|Learn to love me or leave me, either one you wanna do|Because strange things are happenin'|Babe, an' somethin' might happen to you|You might also likeIf you know you don't love me, why don't you let me be?|If you know you don't love me, why don't you let me be?|Because it's better to be without you, then to live on in misery|Hey!|Midnight find me cryin', daylight find me cryin', too|Midnight find me cryin', daylight find me cryin', too|You better change your ways pretty baby|Or somethin' might happen to you\", \"I think of you|And that's the time|I feel so blue|When the rain starts to falling|My love comes tumbling down|And it's raining teardrops from my eyes|Well if you see clouds|Here in my eyes|It's just because|You said goodbye|Although the sun is shining|Theres no summer skies|Still it's raining teardrops from my eyes|Remember the night you told me|Our love would always be|I wouldn't be blue and lonely|Well if you'd come back to me|Every single cloud|Would disappear|I'd wear a smile|If you were here|You might also likeSo baby won't you hurry|Because I need you so|And it's raining teardrops|From my eyes|Remember the night you told me|Our love would always be|I wouldn't be blue and lonely|Well if you'd come back to me|Every single cloud|Would disappear|I'd wear a smile|If you were here|So baby won't you hurry|Cause I miss you so|And it's raining teardrops from my eyes\", \"Mona Lisa, Mona Lisa, men have named you|You're so like the lady with the mystic smile|Is it only 'cause you're lonely they have blamed you?|For that Mona Lisa strangeness in your smile?|Do you smile to tempt a lover, Mona Lisa?|Or is this your way to hide a broken heart?|Many dreams have been brought to your doorstep|They just lie there, and they die there|Are you warm?\", 'Are you real, Mona Lisa?|Or just a cold and lonely, lovely work of art?|Do you smile to tempt a lover, Mona Lisa?|Or is this your way to hide a broken heart?|Many dreams have been brought to your doorstep|They just lie there, and they die there|Are you warm?']\n"
          ]
        }
      ]
    },
    {
      "cell_type": "code",
      "source": [
        "# Keep only 50k–100k lines of text (enough to train)\n",
        "lyrics_text = \" \".join(ds[\"lyrics\"].dropna().tolist()[:50000])"
      ],
      "metadata": {
        "id": "PkgYUFlbX5Ww"
      },
      "execution_count": null,
      "outputs": []
    },
    {
      "cell_type": "code",
      "source": [
        "tokenizer = Tokenizer()\n",
        "tokenizer.fit_on_texts(corpus)\n",
        "total_words = len(tokenizer.word_index) + 1"
      ],
      "metadata": {
        "id": "q03Jhq7VJSJR"
      },
      "execution_count": null,
      "outputs": []
    },
    {
      "cell_type": "code",
      "source": [
        "input_sequences = []\n",
        "for line in corpus:\n",
        "    token_list = tokenizer.texts_to_sequences([line])[0]\n",
        "    for i in range(3, len(token_list)):   # sequence length >= 3\n",
        "        n_gram_seq = token_list[:i+1]\n",
        "        input_sequences.append(n_gram_seq)"
      ],
      "metadata": {
        "id": "jVoy99UcJIwq"
      },
      "execution_count": null,
      "outputs": []
    },
    {
      "cell_type": "code",
      "source": [
        "max_len = max([len(x) for x in input_sequences])\n",
        "input_sequences = pad_sequences(input_sequences, maxlen=max_len, padding=\"pre\")\n",
        "\n",
        "X, y = input_sequences[:,:-1], input_sequences[:,-1]\n",
        "y = tf.keras.utils.to_categorical(y, num_classes=total_words)"
      ],
      "metadata": {
        "id": "CFFXnnEJIJXN"
      },
      "execution_count": null,
      "outputs": []
    },
    {
      "cell_type": "code",
      "source": [
        "from tensorflow.keras.models import Sequential\n",
        "from tensorflow.keras.layers import Embedding, LSTM, Dense, Dropout\n",
        "\n",
        "vocab_size = 5000\n",
        "seq_length = 50\n",
        "max_sequence_len = max_len - 1\n",
        "from tensorflow.keras.models import Sequential\n",
        "from tensorflow.keras.layers import Embedding, LSTM, Dense\n",
        "\n",
        "model = Sequential([\n",
        "    Embedding(vocab_size, 128, input_length=seq_length),\n",
        "    LSTM(256, return_sequences=True),  # try 128 instead of 512/1024\n",
        "    LSTM(256),\n",
        "    Dense(vocab_size, activation=\"softmax\")\n",
        "])\n",
        "\n",
        "model.compile(loss='categorical_crossentropy', optimizer='adam', metrics=['accuracy'])\n",
        "model.build(input_shape=(None, max_sequence_len))\n",
        "model.summary()"
      ],
      "metadata": {
        "colab": {
          "base_uri": "https://localhost:8080/",
          "height": 312
        },
        "id": "waWjtbH4JzXm",
        "outputId": "2e3f8ac8-5d3c-4fc6-bdef-e2a78806d3e7"
      },
      "execution_count": null,
      "outputs": [
        {
          "output_type": "stream",
          "name": "stderr",
          "text": [
            "/usr/local/lib/python3.12/dist-packages/keras/src/layers/core/embedding.py:97: UserWarning: Argument `input_length` is deprecated. Just remove it.\n",
            "  warnings.warn(\n"
          ]
        },
        {
          "output_type": "display_data",
          "data": {
            "text/plain": [
              "\u001b[1mModel: \"sequential\"\u001b[0m\n"
            ],
            "text/html": [
              "<pre style=\"white-space:pre;overflow-x:auto;line-height:normal;font-family:Menlo,'DejaVu Sans Mono',consolas,'Courier New',monospace\"><span style=\"font-weight: bold\">Model: \"sequential\"</span>\n",
              "</pre>\n"
            ]
          },
          "metadata": {}
        },
        {
          "output_type": "display_data",
          "data": {
            "text/plain": [
              "┏━━━━━━━━━━━━━━━━━━━━━━━━━━━━━━━━━┳━━━━━━━━━━━━━━━━━━━━━━━━┳━━━━━━━━━━━━━━━┓\n",
              "┃\u001b[1m \u001b[0m\u001b[1mLayer (type)                   \u001b[0m\u001b[1m \u001b[0m┃\u001b[1m \u001b[0m\u001b[1mOutput Shape          \u001b[0m\u001b[1m \u001b[0m┃\u001b[1m \u001b[0m\u001b[1m      Param #\u001b[0m\u001b[1m \u001b[0m┃\n",
              "┡━━━━━━━━━━━━━━━━━━━━━━━━━━━━━━━━━╇━━━━━━━━━━━━━━━━━━━━━━━━╇━━━━━━━━━━━━━━━┩\n",
              "│ embedding (\u001b[38;5;33mEmbedding\u001b[0m)           │ (\u001b[38;5;45mNone\u001b[0m, \u001b[38;5;34m1774\u001b[0m, \u001b[38;5;34m128\u001b[0m)      │       \u001b[38;5;34m640,000\u001b[0m │\n",
              "├─────────────────────────────────┼────────────────────────┼───────────────┤\n",
              "│ lstm (\u001b[38;5;33mLSTM\u001b[0m)                     │ (\u001b[38;5;45mNone\u001b[0m, \u001b[38;5;34m1774\u001b[0m, \u001b[38;5;34m256\u001b[0m)      │       \u001b[38;5;34m394,240\u001b[0m │\n",
              "├─────────────────────────────────┼────────────────────────┼───────────────┤\n",
              "│ lstm_1 (\u001b[38;5;33mLSTM\u001b[0m)                   │ (\u001b[38;5;45mNone\u001b[0m, \u001b[38;5;34m256\u001b[0m)            │       \u001b[38;5;34m525,312\u001b[0m │\n",
              "├─────────────────────────────────┼────────────────────────┼───────────────┤\n",
              "│ dense (\u001b[38;5;33mDense\u001b[0m)                   │ (\u001b[38;5;45mNone\u001b[0m, \u001b[38;5;34m5000\u001b[0m)           │     \u001b[38;5;34m1,285,000\u001b[0m │\n",
              "└─────────────────────────────────┴────────────────────────┴───────────────┘\n"
            ],
            "text/html": [
              "<pre style=\"white-space:pre;overflow-x:auto;line-height:normal;font-family:Menlo,'DejaVu Sans Mono',consolas,'Courier New',monospace\">┏━━━━━━━━━━━━━━━━━━━━━━━━━━━━━━━━━┳━━━━━━━━━━━━━━━━━━━━━━━━┳━━━━━━━━━━━━━━━┓\n",
              "┃<span style=\"font-weight: bold\"> Layer (type)                    </span>┃<span style=\"font-weight: bold\"> Output Shape           </span>┃<span style=\"font-weight: bold\">       Param # </span>┃\n",
              "┡━━━━━━━━━━━━━━━━━━━━━━━━━━━━━━━━━╇━━━━━━━━━━━━━━━━━━━━━━━━╇━━━━━━━━━━━━━━━┩\n",
              "│ embedding (<span style=\"color: #0087ff; text-decoration-color: #0087ff\">Embedding</span>)           │ (<span style=\"color: #00d7ff; text-decoration-color: #00d7ff\">None</span>, <span style=\"color: #00af00; text-decoration-color: #00af00\">1774</span>, <span style=\"color: #00af00; text-decoration-color: #00af00\">128</span>)      │       <span style=\"color: #00af00; text-decoration-color: #00af00\">640,000</span> │\n",
              "├─────────────────────────────────┼────────────────────────┼───────────────┤\n",
              "│ lstm (<span style=\"color: #0087ff; text-decoration-color: #0087ff\">LSTM</span>)                     │ (<span style=\"color: #00d7ff; text-decoration-color: #00d7ff\">None</span>, <span style=\"color: #00af00; text-decoration-color: #00af00\">1774</span>, <span style=\"color: #00af00; text-decoration-color: #00af00\">256</span>)      │       <span style=\"color: #00af00; text-decoration-color: #00af00\">394,240</span> │\n",
              "├─────────────────────────────────┼────────────────────────┼───────────────┤\n",
              "│ lstm_1 (<span style=\"color: #0087ff; text-decoration-color: #0087ff\">LSTM</span>)                   │ (<span style=\"color: #00d7ff; text-decoration-color: #00d7ff\">None</span>, <span style=\"color: #00af00; text-decoration-color: #00af00\">256</span>)            │       <span style=\"color: #00af00; text-decoration-color: #00af00\">525,312</span> │\n",
              "├─────────────────────────────────┼────────────────────────┼───────────────┤\n",
              "│ dense (<span style=\"color: #0087ff; text-decoration-color: #0087ff\">Dense</span>)                   │ (<span style=\"color: #00d7ff; text-decoration-color: #00d7ff\">None</span>, <span style=\"color: #00af00; text-decoration-color: #00af00\">5000</span>)           │     <span style=\"color: #00af00; text-decoration-color: #00af00\">1,285,000</span> │\n",
              "└─────────────────────────────────┴────────────────────────┴───────────────┘\n",
              "</pre>\n"
            ]
          },
          "metadata": {}
        },
        {
          "output_type": "display_data",
          "data": {
            "text/plain": [
              "\u001b[1m Total params: \u001b[0m\u001b[38;5;34m2,844,552\u001b[0m (10.85 MB)\n"
            ],
            "text/html": [
              "<pre style=\"white-space:pre;overflow-x:auto;line-height:normal;font-family:Menlo,'DejaVu Sans Mono',consolas,'Courier New',monospace\"><span style=\"font-weight: bold\"> Total params: </span><span style=\"color: #00af00; text-decoration-color: #00af00\">2,844,552</span> (10.85 MB)\n",
              "</pre>\n"
            ]
          },
          "metadata": {}
        },
        {
          "output_type": "display_data",
          "data": {
            "text/plain": [
              "\u001b[1m Trainable params: \u001b[0m\u001b[38;5;34m2,844,552\u001b[0m (10.85 MB)\n"
            ],
            "text/html": [
              "<pre style=\"white-space:pre;overflow-x:auto;line-height:normal;font-family:Menlo,'DejaVu Sans Mono',consolas,'Courier New',monospace\"><span style=\"font-weight: bold\"> Trainable params: </span><span style=\"color: #00af00; text-decoration-color: #00af00\">2,844,552</span> (10.85 MB)\n",
              "</pre>\n"
            ]
          },
          "metadata": {}
        },
        {
          "output_type": "display_data",
          "data": {
            "text/plain": [
              "\u001b[1m Non-trainable params: \u001b[0m\u001b[38;5;34m0\u001b[0m (0.00 B)\n"
            ],
            "text/html": [
              "<pre style=\"white-space:pre;overflow-x:auto;line-height:normal;font-family:Menlo,'DejaVu Sans Mono',consolas,'Courier New',monospace\"><span style=\"font-weight: bold\"> Non-trainable params: </span><span style=\"color: #00af00; text-decoration-color: #00af00\">0</span> (0.00 B)\n",
              "</pre>\n"
            ]
          },
          "metadata": {}
        }
      ]
    },
    {
      "cell_type": "code",
      "source": [
        "lstm_history = model.fit(X, y, epochs=5, batch_size=8, validation_split=0.2, verbose=1)"
      ],
      "metadata": {
        "id": "MCbwctWwMN77"
      },
      "execution_count": null,
      "outputs": []
    },
    {
      "cell_type": "code",
      "source": [
        "import pandas as pd\n",
        "import numpy as np\n",
        "import tensorflow as tf\n",
        "from tensorflow.keras.preprocessing.text import Tokenizer\n",
        "from tensorflow.keras.preprocessing.sequence import pad_sequences\n",
        "from tensorflow.keras.models import Sequential\n",
        "from tensorflow.keras.layers import Embedding, LSTM, Dense, Dropout\n",
        "\n",
        "# 1. Load dataset and take only half\n",
        "df = pd.read_csv(\"topSongsLyrics1950_2019.csv\")\n",
        "half_len = len(df) // 2\n",
        "lyrics = df[\"lyrics\"].dropna().astype(str).tolist()[:half_len]\n",
        "\n",
        "# 2. Preprocess text\n",
        "corpus = [lyric.lower() for lyric in lyrics]\n",
        "\n",
        "# 3. Tokenizer with limited vocab\n",
        "vocab_size = 5000   # keep vocab smaller\n",
        "tokenizer = Tokenizer(num_words=vocab_size, oov_token=\"<OOV>\")\n",
        "tokenizer.fit_on_texts(corpus)\n",
        "\n",
        "# 4. Create sequences\n",
        "input_sequences = []\n",
        "for line in corpus:\n",
        "    token_list = tokenizer.texts_to_sequences([line])[0]\n",
        "    for i in range(1, len(token_list)):\n",
        "        n_gram_seq = token_list[:i+1]\n",
        "        input_sequences.append(n_gram_seq)\n",
        "\n",
        "# Pad sequences (cap sequence length at 20 for speed)\n",
        "max_seq_len = min(20, max(len(x) for x in input_sequences))\n",
        "input_sequences = pad_sequences(input_sequences, maxlen=max_seq_len, padding='pre')\n",
        "\n",
        "X, y = input_sequences[:, :-1], input_sequences[:, -1]\n",
        "y = tf.keras.utils.to_categorical(y, num_classes=vocab_size)\n",
        "\n",
        "# 5. Build smaller LSTM model\n",
        "model = Sequential([Embedding(vocab_size, 128), # Removed input_length\n",
        "  LSTM(256, return_sequences=True),  # try 128 instead of 512/1024\n",
        "  Dropout(0.2),\n",
        "  LSTM(256),\n",
        "  Dropout(0.2),\n",
        "  Dense(vocab_size, activation=\"softmax\")\n",
        "])\n",
        "model.compile(loss='categorical_crossentropy', optimizer='adam', metrics=['accuracy'])\n",
        "\n",
        "# 6. Train model (few epochs to prevent crash)\n",
        "model.fit(X, y, epochs=10, batch_size=128, verbose=1)"
      ],
      "metadata": {
        "colab": {
          "base_uri": "https://localhost:8080/"
        },
        "id": "nf7Clr-uW29w",
        "outputId": "f4600b69-0db4-4321-8dd2-e6c94ad40e1e"
      },
      "execution_count": null,
      "outputs": [
        {
          "output_type": "stream",
          "name": "stdout",
          "text": [
            "Epoch 1/10\n",
            "\u001b[1m816/816\u001b[0m \u001b[32m━━━━━━━━━━━━━━━━━━━━\u001b[0m\u001b[37m\u001b[0m \u001b[1m14s\u001b[0m 14ms/step - accuracy: 0.0341 - loss: 6.6946\n",
            "Epoch 2/10\n",
            "\u001b[1m816/816\u001b[0m \u001b[32m━━━━━━━━━━━━━━━━━━━━\u001b[0m\u001b[37m\u001b[0m \u001b[1m20s\u001b[0m 14ms/step - accuracy: 0.0520 - loss: 6.0612\n",
            "Epoch 3/10\n",
            "\u001b[1m816/816\u001b[0m \u001b[32m━━━━━━━━━━━━━━━━━━━━\u001b[0m\u001b[37m\u001b[0m \u001b[1m11s\u001b[0m 14ms/step - accuracy: 0.0737 - loss: 5.7439\n",
            "Epoch 4/10\n",
            "\u001b[1m816/816\u001b[0m \u001b[32m━━━━━━━━━━━━━━━━━━━━\u001b[0m\u001b[37m\u001b[0m \u001b[1m20s\u001b[0m 14ms/step - accuracy: 0.0889 - loss: 5.5230\n",
            "Epoch 5/10\n",
            "\u001b[1m816/816\u001b[0m \u001b[32m━━━━━━━━━━━━━━━━━━━━\u001b[0m\u001b[37m\u001b[0m \u001b[1m21s\u001b[0m 14ms/step - accuracy: 0.1009 - loss: 5.3205\n",
            "Epoch 6/10\n",
            "\u001b[1m816/816\u001b[0m \u001b[32m━━━━━━━━━━━━━━━━━━━━\u001b[0m\u001b[37m\u001b[0m \u001b[1m20s\u001b[0m 14ms/step - accuracy: 0.1115 - loss: 5.1547\n",
            "Epoch 7/10\n",
            "\u001b[1m816/816\u001b[0m \u001b[32m━━━━━━━━━━━━━━━━━━━━\u001b[0m\u001b[37m\u001b[0m \u001b[1m21s\u001b[0m 14ms/step - accuracy: 0.1262 - loss: 4.9883\n",
            "Epoch 8/10\n",
            "\u001b[1m816/816\u001b[0m \u001b[32m━━━━━━━━━━━━━━━━━━━━\u001b[0m\u001b[37m\u001b[0m \u001b[1m20s\u001b[0m 14ms/step - accuracy: 0.1410 - loss: 4.8056\n",
            "Epoch 9/10\n",
            "\u001b[1m816/816\u001b[0m \u001b[32m━━━━━━━━━━━━━━━━━━━━\u001b[0m\u001b[37m\u001b[0m \u001b[1m12s\u001b[0m 14ms/step - accuracy: 0.1559 - loss: 4.6688\n",
            "Epoch 10/10\n",
            "\u001b[1m816/816\u001b[0m \u001b[32m━━━━━━━━━━━━━━━━━━━━\u001b[0m\u001b[37m\u001b[0m \u001b[1m11s\u001b[0m 14ms/step - accuracy: 0.1631 - loss: 4.6067\n"
          ]
        },
        {
          "output_type": "execute_result",
          "data": {
            "text/plain": [
              "<keras.src.callbacks.history.History at 0x791414bdd7c0>"
            ]
          },
          "metadata": {},
          "execution_count": 13
        }
      ]
    },
    {
      "cell_type": "code",
      "source": [
        "def predict_next_word(seed_text, next_words=10):\n",
        "    for _ in range(next_words):\n",
        "        token_list = tokenizer.texts_to_sequences([seed_text])[0]\n",
        "        token_list = pad_sequences([token_list], maxlen=max_seq_len-1, padding='pre')\n",
        "        predicted = np.argmax(model.predict(token_list, verbose=0), axis=-1)[0]\n",
        "        for word, index in tokenizer.word_index.items():\n",
        "            if index == predicted:\n",
        "                seed_text += \" \" + word\n",
        "                break\n",
        "    return seed_text\n",
        "\n",
        "# Example\n",
        "print(predict_next_word(\"love is\"))"
      ],
      "metadata": {
        "colab": {
          "base_uri": "https://localhost:8080/"
        },
        "id": "pvWoqWsZZJPI",
        "outputId": "aeb2c471-4861-48f8-8cb5-10a324c69e3e"
      },
      "execution_count": null,
      "outputs": [
        {
          "output_type": "stream",
          "name": "stdout",
          "text": [
            "love is <OOV> and i know you will be a <OOV> and\n"
          ]
        }
      ]
    },
    {
      "cell_type": "code",
      "source": [],
      "metadata": {
        "id": "b9qUTOb6elRi"
      },
      "execution_count": null,
      "outputs": []
    }
  ]
}